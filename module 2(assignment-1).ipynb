{
 "cells": [
  {
   "cell_type": "code",
   "execution_count": 4,
   "metadata": {},
   "outputs": [
    {
     "name": "stdout",
     "output_type": "stream",
     "text": [
      "enter first input:LEON\n",
      "enter second input:leon\n",
      "Not equal\n"
     ]
    }
   ],
   "source": [
    "#1:EQUAL OR NOT EQUAL\n",
    "a=input('enter first input:')\n",
    "b=input('enter second input:')\n",
    "if a==b:\n",
    "    print('Both are equal')\n",
    "else:\n",
    "    print('Not equal')"
   ]
  },
  {
   "cell_type": "code",
   "execution_count": 28,
   "metadata": {},
   "outputs": [
    {
     "name": "stdout",
     "output_type": "stream",
     "text": [
      "enter the first number\n",
      "10\n",
      "enter the second number\n",
      "10\n",
      "enter the third number\n",
      "10\n",
      "all are equal: True\n",
      "any two are equal: True\n"
     ]
    }
   ],
   "source": [
    "#2:TAKE 3 INPUTS FROM USER\n",
    "print('enter the first number')\n",
    "first=input()\n",
    "print('enter the second number')\n",
    "second=input()\n",
    "print('enter the third number')\n",
    "third=input()\n",
    "equal=first==second and second==third and third==first\n",
    "print('all are equal:',equal)\n",
    "anytwo_are_equal=first==second or second==third or third==first\n",
    "print('any two are equal:',anytwo_are_equal)\n",
    "\n",
    "\n",
    "\n"
   ]
  },
  {
   "cell_type": "code",
   "execution_count": 30,
   "metadata": {},
   "outputs": [
    {
     "name": "stdout",
     "output_type": "stream",
     "text": [
      "enter first number\n",
      "5\n",
      "enter second number\n",
      "5\n",
      "sum is greater than 5 True\n",
      "sum is lesser than 5 False\n",
      "sum is equal to 5 False\n"
     ]
    }
   ],
   "source": [
    "#3:SUM IS >5,<5 OR ==5\n",
    "print('enter first number')\n",
    "first=int(input())\n",
    "print('enter second number')\n",
    "second=int(input())\n",
    "sum=first+second\n",
    "print('sum is greater than 5',sum>5)\n",
    "print('sum is lesser than 5',sum<5)\n",
    "print('sum is equal to 5',sum==5)"
   ]
  },
  {
   "cell_type": "code",
   "execution_count": 33,
   "metadata": {},
   "outputs": [
    {
     "name": "stdout",
     "output_type": "stream",
     "text": [
      "enter the marks\n",
      "34\n",
      "not passed\n"
     ]
    }
   ],
   "source": [
    "#4:PASSING MARKS 35\n",
    "print('enter the marks')\n",
    "marks=int(input())\n",
    "if marks>=35:\n",
    "    print('passed')\n",
    "else:\n",
    "    print('not passed')"
   ]
  },
  {
   "cell_type": "code",
   "execution_count": 38,
   "metadata": {},
   "outputs": [
    {
     "name": "stdout",
     "output_type": "stream",
     "text": [
      "enter the value of a:10\n",
      "enter the value of b:20\n",
      "enter the value of c:30\n",
      "max number is: 30\n"
     ]
    }
   ],
   "source": [
    "#5:MAX OF 3 NUMBERS\n",
    "def big(a, b, c): \n",
    "    if (a >= b) and (a >= c): \n",
    "        max= a \n",
    "    elif (b >= a) and (b >= c): \n",
    "        max = b \n",
    "    else: \n",
    "        max = c \n",
    "    return max \n",
    "   \n",
    "a = int(input('enter the value of a:'))\n",
    "b = int(input('enter the value of b:'))\n",
    "c = int(input('enter the value of c:'))\n",
    "print(\"max number is:\",big(a, b, c)) "
   ]
  },
  {
   "cell_type": "code",
   "execution_count": null,
   "metadata": {},
   "outputs": [],
   "source": []
  }
 ],
 "metadata": {
  "kernelspec": {
   "display_name": "Python 3",
   "language": "python",
   "name": "python3"
  },
  "language_info": {
   "codemirror_mode": {
    "name": "ipython",
    "version": 3
   },
   "file_extension": ".py",
   "mimetype": "text/x-python",
   "name": "python",
   "nbconvert_exporter": "python",
   "pygments_lexer": "ipython3",
   "version": "3.7.6"
  }
 },
 "nbformat": 4,
 "nbformat_minor": 4
}
