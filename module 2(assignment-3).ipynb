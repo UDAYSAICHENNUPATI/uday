{
 "cells": [
  {
   "cell_type": "code",
   "execution_count": 1,
   "metadata": {},
   "outputs": [
    {
     "name": "stdout",
     "output_type": "stream",
     "text": [
      "enter the radius of circle10\n",
      "area of circle is: 314.1592653589793\n"
     ]
    }
   ],
   "source": [
    "#1:AREA OF CIRCLE\n",
    "import math\n",
    "r=float(input('enter the radius of circle'))\n",
    "area=math.pi*r**2\n",
    "print('area of circle is:',area)"
   ]
  },
  {
   "cell_type": "code",
   "execution_count": 7,
   "metadata": {},
   "outputs": [
    {
     "name": "stdout",
     "output_type": "stream",
     "text": [
      "Enter the length of each side of Polygon (in meters): 10\n",
      "Enter the number of sides: 2\n",
      "The area of Polygon is:  3.061616997868383e-15\n"
     ]
    }
   ],
   "source": [
    "#2:AREA OF REGULAR PENTAGON\n",
    "from math import tan,pi\n",
    "length  = float(input(\"Enter the length of each side of Polygon (in meters): \"))\n",
    "number  = int(input(\"Enter the number of sides: \"))\n",
    "area = (number * length ** 2)/(4 * tan(pi/number))\n",
    "print(\"The area of Polygon is: \", area)"
   ]
  },
  {
   "cell_type": "code",
   "execution_count": 7,
   "metadata": {},
   "outputs": [
    {
     "name": "stdout",
     "output_type": "stream",
     "text": [
      "Radius of Circle: 500\n",
      "angle measure: 361\n",
      "Angle is not possible\n"
     ]
    }
   ],
   "source": [
    "#3:AREA OF SEGMENT OF CIRCLE\n",
    "import math\n",
    "def sectorarea():\n",
    "    radius = float(input('Radius of Circle: '))\n",
    "    angle = float(input('angle measure: '))\n",
    "    if angle >= 360:\n",
    "        print(\"Angle is not possible\")\n",
    "        return\n",
    "    sur_area = (math.pi*radius**2) * (angle/360)\n",
    "    print(\"Sector Area: \", sur_area)\n",
    "\n",
    "sectorarea()"
   ]
  },
  {
   "cell_type": "code",
   "execution_count": 8,
   "metadata": {},
   "outputs": [
    {
     "name": "stdout",
     "output_type": "stream",
     "text": [
      "[1, 40, 30, 2, 100, 3, 'hai', 'hello']\n"
     ]
    }
   ],
   "source": [
    "#4:SHUFFLE LIST\n",
    "from random import shuffle\n",
    "l1=[100,1,2,3,30,40,\"hai\",\"hello\"]\n",
    "shuffle(l1)\n",
    "print(l1)"
   ]
  },
  {
   "cell_type": "code",
   "execution_count": 37,
   "metadata": {},
   "outputs": [
    {
     "name": "stdout",
     "output_type": "stream",
     "text": [
      "468\n",
      "518\n",
      "568\n",
      "618\n",
      "668\n",
      "718\n",
      "768\n",
      "818\n",
      "868\n",
      "918\n",
      "968\n",
      "1018\n",
      "1068\n",
      "1118\n",
      "1168\n",
      "1218\n",
      "1268\n",
      "1318\n",
      "1368\n",
      "1418\n",
      "1468\n",
      "1518\n",
      "1568\n",
      "1618\n",
      "1668\n",
      "1718\n",
      "1768\n",
      "1818\n",
      "1868\n",
      "1918\n",
      "1968\n",
      "2018\n",
      "2068\n",
      "2118\n",
      "2168\n",
      "2218\n",
      "2268\n",
      "2318\n",
      "2368\n",
      "2418\n",
      "2468\n",
      "2518\n",
      "2568\n",
      "2618\n",
      "2668\n",
      "2718\n",
      "2768\n",
      "2818\n",
      "2868\n",
      "2918\n",
      "2968\n",
      "3018\n",
      "3068\n",
      "3118\n",
      "3168\n",
      "3218\n",
      "3268\n",
      "3318\n",
      "3368\n",
      "3418\n",
      "3468\n",
      "3518\n",
      "3568\n",
      "3618\n",
      "3668\n",
      "3718\n",
      "3768\n",
      "3818\n",
      "3868\n",
      "3918\n",
      "3968\n",
      "4018\n",
      "4068\n",
      "4118\n",
      "4168\n",
      "4218\n",
      "4268\n",
      "4318\n",
      "4368\n",
      "4418\n",
      "4468\n",
      "4518\n",
      "4568\n",
      "4618\n",
      "4668\n",
      "4718\n",
      "4768\n",
      "4818\n",
      "4868\n",
      "4918\n",
      "4968\n",
      "5018\n",
      "5068\n",
      "5118\n",
      "5168\n",
      "5218\n",
      "5268\n",
      "5318\n",
      "5368\n",
      "5418\n",
      "5468\n",
      "5518\n",
      "5568\n",
      "5618\n",
      "5668\n",
      "5718\n",
      "5768\n",
      "5818\n",
      "5868\n",
      "5918\n",
      "5968\n",
      "6018\n",
      "6068\n",
      "6118\n",
      "6168\n",
      "6218\n",
      "6268\n",
      "6318\n",
      "6368\n",
      "6418\n",
      "6468\n",
      "6518\n",
      "6568\n",
      "6618\n",
      "6668\n",
      "6718\n",
      "6768\n",
      "6818\n",
      "6868\n",
      "6918\n",
      "6968\n",
      "7018\n",
      "7068\n",
      "7118\n",
      "7168\n",
      "7218\n",
      "7268\n",
      "7318\n",
      "7368\n",
      "7418\n",
      "7468\n",
      "7518\n",
      "7568\n",
      "7618\n",
      "7668\n",
      "7718\n",
      "7768\n",
      "7818\n",
      "7868\n",
      "7918\n",
      "7968\n",
      "8018\n",
      "8068\n",
      "8118\n",
      "8168\n",
      "8218\n",
      "8268\n",
      "8318\n",
      "8368\n",
      "8418\n",
      "8468\n",
      "8518\n",
      "8568\n",
      "8618\n",
      "8668\n",
      "8718\n",
      "8768\n",
      "8818\n",
      "8868\n",
      "8918\n",
      "8968\n",
      "9018\n",
      "9068\n",
      "9118\n",
      "9168\n",
      "9218\n",
      "9268\n",
      "9318\n",
      "9368\n",
      "9418\n",
      "9468\n",
      "9518\n",
      "9568\n",
      "9618\n",
      "9668\n",
      "9718\n",
      "9768\n",
      "9818\n",
      "9868\n",
      "9918\n",
      "9968\n",
      "10018\n"
     ]
    }
   ],
   "source": [
    "#5:TO GENERATE RANDOM NUMBERS\n",
    "import random\n",
    "n = random.randint(1,10000)\n",
    "print(n)\n",
    "\n",
    "while(n<10000):\n",
    "    n=n+50\n",
    "    print(n)"
   ]
  },
  {
   "cell_type": "code",
   "execution_count": 17,
   "metadata": {},
   "outputs": [
    {
     "name": "stdout",
     "output_type": "stream",
     "text": [
      "-0.3048106211022167\n"
     ]
    }
   ],
   "source": [
    "#6:A SIN60\n",
    "import math\n",
    "sine=math.sin(60)\n",
    "print(sine)"
   ]
  },
  {
   "cell_type": "code",
   "execution_count": 20,
   "metadata": {},
   "outputs": [
    {
     "name": "stdout",
     "output_type": "stream",
     "text": [
      "-1.0\n"
     ]
    }
   ],
   "source": [
    "#6:B COS(PI)\n",
    "from math import pi\n",
    "cos=math.cos(pi)\n",
    "print(cos)"
   ]
  },
  {
   "cell_type": "code",
   "execution_count": 21,
   "metadata": {},
   "outputs": [
    {
     "name": "stdout",
     "output_type": "stream",
     "text": [
      "-1.995200412208242\n"
     ]
    }
   ],
   "source": [
    "#6:C TAN90\n",
    "import math\n",
    "tan=math.tan(90)\n",
    "print(tan)"
   ]
  },
  {
   "cell_type": "code",
   "execution_count": 22,
   "metadata": {},
   "outputs": [
    {
     "name": "stdout",
     "output_type": "stream",
     "text": [
      "0.7617599814162892\n"
     ]
    }
   ],
   "source": [
    "#6:D ANGLE OF SINE(0.8660254037844386)\n",
    "import math\n",
    "print(math.sin((0.86602540378443860009)))\n"
   ]
  },
  {
   "cell_type": "code",
   "execution_count": 23,
   "metadata": {},
   "outputs": [
    {
     "name": "stdout",
     "output_type": "stream",
     "text": [
      "390625\n"
     ]
    }
   ],
   "source": [
    "#6:E 5^8\n",
    "print(5**8)"
   ]
  },
  {
   "cell_type": "code",
   "execution_count": 24,
   "metadata": {},
   "outputs": [
    {
     "name": "stdout",
     "output_type": "stream",
     "text": [
      "20.0\n"
     ]
    }
   ],
   "source": [
    "#6:F SQUARE ROOT OF 400\n",
    "print(400**0.5)"
   ]
  },
  {
   "cell_type": "code",
   "execution_count": 25,
   "metadata": {},
   "outputs": [
    {
     "name": "stdout",
     "output_type": "stream",
     "text": [
      "13.591409142295225\n"
     ]
    }
   ],
   "source": [
    "#6:G THE VALUE OF 5^e\n",
    "import math\n",
    "print(5*(math.e))"
   ]
  },
  {
   "cell_type": "code",
   "execution_count": 26,
   "metadata": {},
   "outputs": [
    {
     "name": "stdout",
     "output_type": "stream",
     "text": [
      "10.0\n"
     ]
    }
   ],
   "source": [
    "#6:H THE VALUE OF LOG(1024),BASE 2\n",
    "import math\n",
    "print(math.log2(1024))"
   ]
  },
  {
   "cell_type": "code",
   "execution_count": 27,
   "metadata": {},
   "outputs": [
    {
     "name": "stdout",
     "output_type": "stream",
     "text": [
      "3.010299956639812\n"
     ]
    }
   ],
   "source": [
    "#6:I THE VALUE OF LOG(1024),BASE 10\n",
    "import math\n",
    "print(math.log10(1024))"
   ]
  },
  {
   "cell_type": "code",
   "execution_count": 28,
   "metadata": {},
   "outputs": [
    {
     "name": "stdout",
     "output_type": "stream",
     "text": [
      "23\n",
      "24\n"
     ]
    }
   ],
   "source": [
    "#6:J THE FLOOR AND CEILING VALUE OF 23.56\n",
    "import math\n",
    "print(math.floor(23.56))\n",
    "print(math.ceil(23.56))"
   ]
  },
  {
   "cell_type": "code",
   "execution_count": null,
   "metadata": {},
   "outputs": [],
   "source": []
  }
 ],
 "metadata": {
  "kernelspec": {
   "display_name": "Python 3",
   "language": "python",
   "name": "python3"
  },
  "language_info": {
   "codemirror_mode": {
    "name": "ipython",
    "version": 3
   },
   "file_extension": ".py",
   "mimetype": "text/x-python",
   "name": "python",
   "nbconvert_exporter": "python",
   "pygments_lexer": "ipython3",
   "version": "3.7.6"
  }
 },
 "nbformat": 4,
 "nbformat_minor": 4
}
