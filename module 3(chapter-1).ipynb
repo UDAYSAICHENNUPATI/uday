{
 "cells": [
  {
   "cell_type": "code",
   "execution_count": 1,
   "metadata": {},
   "outputs": [
    {
     "name": "stdout",
     "output_type": "stream",
     "text": [
      "Enter a binary value: 10010\n",
      "The decimal value is 18\n"
     ]
    }
   ],
   "source": [
    "#1:BINARY TO DECIMAL\n",
    "bin=list(input('Enter a binary value: '))\n",
    "t=0\n",
    "for i in range(len(bin)):\n",
    "    d=bin.pop()\n",
    "    if d =='1':\n",
    "        t=t+pow(2,i)\n",
    "print(\"The decimal value is\",t)"
   ]
  },
  {
   "cell_type": "code",
   "execution_count": 3,
   "metadata": {},
   "outputs": [
    {
     "name": "stdout",
     "output_type": "stream",
     "text": [
      "Enter how many numbers to print3\n",
      "The fibonacci series till 3 are\n",
      "\n",
      "0\n",
      "1\n",
      "1\n"
     ]
    }
   ],
   "source": [
    "#2:FIBONACCI SERIRES\n",
    "n=int(input('Enter how many numbers to print'))\n",
    "f1=f3=0\n",
    "f2=1\n",
    "print(\"The fibonacci series till\",n,\"are\\n\")\n",
    "print(f1)\n",
    "print(f2)\n",
    "while(n>2):\n",
    "    f3=f1+f2\n",
    "    f1=f2\n",
    "    f2=f3\n",
    "    n-=1\n",
    "    print(f3) "
   ]
  },
  {
   "cell_type": "code",
   "execution_count": null,
   "metadata": {},
   "outputs": [],
   "source": [
    "#3:MULTIPLICATION TABLE\n",
    "num = int(input(\"Display multiplication table of\"))\n",
    "for i in range(1, 11):\n",
    " print(num, 'x', i, '=', num*i)"
   ]
  },
  {
   "cell_type": "code",
   "execution_count": 4,
   "metadata": {},
   "outputs": [
    {
     "name": "stdout",
     "output_type": "stream",
     "text": [
      "enter a number: 1\n",
      "enter a number: 2\n",
      "enter a number: 3\n",
      "enter a number: 4\n",
      "enter a number: 5\n",
      "enter a number: 6\n",
      "enter a number: 7\n",
      "enter a number: 8\n",
      "enter a number: 9\n",
      "enter a number: 10\n",
      "5.5\n",
      "*\n",
      "**\n",
      "***\n",
      "****\n",
      "*****\n"
     ]
    }
   ],
   "source": [
    "#4:PRINT PATTERN USING LOOP\n",
    "sum=j=0\n",
    "while j<10:\n",
    "    i=int(input('enter a number: '))\n",
    "    sum=sum+i\n",
    "    j+=1\n",
    "avg=sum/j  \n",
    "print(avg)\n",
    "i=j=1\n",
    "while i<=5:\n",
    "    while j<=i:\n",
    "        print('*' * i)\n",
    "        j+=1\n",
    "    i+=1"
   ]
  },
  {
   "cell_type": "code",
   "execution_count": 5,
   "metadata": {},
   "outputs": [
    {
     "name": "stdout",
     "output_type": "stream",
     "text": [
      "Enter 1st number: 10\n",
      "Enter 2nd number: 20\n",
      "hcf of the entered numbers is 10\n"
     ]
    }
   ],
   "source": [
    "#5:HCF OF TWO NUMBERS\n",
    "x=float(input('Enter 1st number: '))\n",
    "y=float(input('Enter 2nd number: '))\n",
    "i=1\n",
    "while(i<=x and i<=y):\n",
    "    if(x % i==0 and y % i==0):\n",
    "        hcf=i\n",
    "    i+=1\n",
    "print(\"hcf of the entered numbers is\",hcf)"
   ]
  },
  {
   "cell_type": "code",
   "execution_count": 6,
   "metadata": {},
   "outputs": [
    {
     "name": "stdout",
     "output_type": "stream",
     "text": [
      "Enter a string: LEON\n",
      "Reverse of the string is: NOEL\n"
     ]
    }
   ],
   "source": [
    "#6:ACCEPT WORDS AND REVERSE IT\n",
    "def rev(r_str):\n",
    "    s=\"\"\n",
    "    for ch in r_str:\n",
    "        s=ch+s\n",
    "    return s\n",
    "a=str(input('Enter a string: '))\n",
    "print(\"Reverse of the string is:\",rev(a))"
   ]
  },
  {
   "cell_type": "code",
   "execution_count": 7,
   "metadata": {},
   "outputs": [
    {
     "name": "stdout",
     "output_type": "stream",
     "text": [
      "Enter how many numbers in list: 5\n",
      "Enter a number: 1\n",
      "Enter a number: 2\n",
      "Enter a number: 3\n",
      "Enter a number: 4\n",
      "Enter a number: 5\n",
      "Even numbers in the list= 2\n",
      "Odd numbers in the list= 3\n"
     ]
    }
   ],
   "source": [
    "#7:COUNT THE NUMBERS OF EVEN AND ODD FROM THE SERIES OF NUMBERS\n",
    "n=int(input('Enter how many numbers in list: '))\n",
    "l=[]\n",
    "for i in range(0,n):\n",
    "    e=float(input('Enter a number: '))\n",
    "    l.append(e)\n",
    "e=o=0\n",
    "for i in l:\n",
    "    if i%2==0:\n",
    "        e+=1\n",
    "    else:\n",
    "        o+=1\n",
    "print(\"Even numbers in the list=\",e)\n",
    "print(\"Odd numbers in the list=\",o)"
   ]
  },
  {
   "cell_type": "code",
   "execution_count": 8,
   "metadata": {},
   "outputs": [
    {
     "name": "stdout",
     "output_type": "stream",
     "text": [
      "0\n",
      "1\n",
      "2\n",
      "4\n",
      "5\n"
     ]
    }
   ],
   "source": [
    "#8:PRINT NUMBERS FROM 0 TO 6 EXCEPT 3 AND 6\n",
    "for i in range(0,7):\n",
    "    if i!=3 and i!=6:\n",
    "        print(i)"
   ]
  },
  {
   "cell_type": "code",
   "execution_count": null,
   "metadata": {},
   "outputs": [],
   "source": []
  }
 ],
 "metadata": {
  "kernelspec": {
   "display_name": "Python 3",
   "language": "python",
   "name": "python3"
  },
  "language_info": {
   "codemirror_mode": {
    "name": "ipython",
    "version": 3
   },
   "file_extension": ".py",
   "mimetype": "text/x-python",
   "name": "python",
   "nbconvert_exporter": "python",
   "pygments_lexer": "ipython3",
   "version": "3.7.6"
  }
 },
 "nbformat": 4,
 "nbformat_minor": 4
}
