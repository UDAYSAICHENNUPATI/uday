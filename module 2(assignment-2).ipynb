{
 "cells": [
  {
   "cell_type": "code",
   "execution_count": 1,
   "metadata": {},
   "outputs": [
    {
     "name": "stdout",
     "output_type": "stream",
     "text": [
      "enter the value of a:10\n",
      "enter the value of b:50\n",
      "enter the value of c:20\n",
      "max number is: 50\n"
     ]
    }
   ],
   "source": [
    "#1:MAX OF 3 NUMBERS\n",
    "def big(a, b, c): \n",
    "    if (a >= b) and (a >= c): \n",
    "        max= a \n",
    "    elif (b >= a) and (b >= c): \n",
    "        max = b \n",
    "    else: \n",
    "        max = c \n",
    "    return max \n",
    "   \n",
    "a = int(input('enter the value of a:'))\n",
    "b = int(input('enter the value of b:'))\n",
    "c = int(input('enter the value of c:'))\n",
    "print(\"max number is:\",big(a, b, c)) \n"
   ]
  },
  {
   "cell_type": "code",
   "execution_count": 8,
   "metadata": {},
   "outputs": [
    {
     "name": "stdout",
     "output_type": "stream",
     "text": [
      "noel\n"
     ]
    }
   ],
   "source": [
    "#2:REVERSE A STRING\n",
    "name=\"leon\"[::-1]\n",
    "print(name)"
   ]
  },
  {
   "cell_type": "code",
   "execution_count": 33,
   "metadata": {},
   "outputs": [
    {
     "name": "stdout",
     "output_type": "stream",
     "text": [
      "Enter any number: 12\n",
      "12 is not a prime number\n"
     ]
    }
   ],
   "source": [
    "#3:PRIME OR NOT\n",
    "number = int(input(\"Enter any number: \"))\n",
    "if number > 1:\n",
    "    for i in range(2, number):\n",
    "        if (number % i) == 0:\n",
    "            print(number, \"is not a prime number\")\n",
    "            break\n",
    "    else:\n",
    "        print(number, \"is a prime number\")\n",
    "else:\n",
    "    print(number, \"is not a prime number\")"
   ]
  },
  {
   "cell_type": "code",
   "execution_count": 11,
   "metadata": {},
   "outputs": [
    {
     "name": "stdout",
     "output_type": "stream",
     "text": [
      "enter the number:121\n",
      "the given number is palindrome\n",
      "this block is always excuted\n"
     ]
    }
   ],
   "source": [
    "#4:PALINDROME OR NOT\n",
    "num=input(\"enter the number:\")\n",
    "try:\n",
    "    val=int(num)\n",
    "    if num==str(num)[::-1]:\n",
    "        print(\"the given number is palindrome\")\n",
    "    else:\n",
    "        print(\"the given number is not a palindrome\")\n",
    "except ValueError:\n",
    "    print(\"That not a vaild number\")\n",
    "finally:\n",
    "    print(\"this block is always excuted\")\n",
    "\n"
   ]
  },
  {
   "cell_type": "code",
   "execution_count": 3,
   "metadata": {},
   "outputs": [
    {
     "name": "stdout",
     "output_type": "stream",
     "text": [
      "enter any natural number10\n",
      "385\n"
     ]
    }
   ],
   "source": [
    "#5:SUM OF SQUARES OF FIRST N NATURAL NUMBERS\n",
    "def squaresum(n) :  \n",
    "    sum = 0\n",
    "    for i in range(1, n+1) : \n",
    "        sum = sum + (i * i)  \n",
    "    return sum \n",
    "n =int(input('enter any natural number'))\n",
    "print(squaresum(n)) "
   ]
  },
  {
   "cell_type": "code",
   "execution_count": null,
   "metadata": {},
   "outputs": [],
   "source": []
  }
 ],
 "metadata": {
  "kernelspec": {
   "display_name": "Python 3",
   "language": "python",
   "name": "python3"
  },
  "language_info": {
   "codemirror_mode": {
    "name": "ipython",
    "version": 3
   },
   "file_extension": ".py",
   "mimetype": "text/x-python",
   "name": "python",
   "nbconvert_exporter": "python",
   "pygments_lexer": "ipython3",
   "version": "3.7.6"
  }
 },
 "nbformat": 4,
 "nbformat_minor": 4
}
