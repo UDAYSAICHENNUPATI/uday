{
 "cells": [
  {
   "cell_type": "code",
   "execution_count": 1,
   "metadata": {},
   "outputs": [
    {
     "name": "stdout",
     "output_type": "stream",
     "text": [
      "Enter a string: leon\n",
      "Length of a string is 4\n"
     ]
    }
   ],
   "source": [
    "#1:LENGTH OF A STRING\n",
    "def strlen(string):\n",
    "    st=0\n",
    "    for char in string:\n",
    "        st+=1\n",
    "    return st\n",
    "string = str(input('Enter a string: '))\n",
    "print(\"Length of a string is\",strlen(string))"
   ]
  },
  {
   "cell_type": "code",
   "execution_count": 2,
   "metadata": {},
   "outputs": [
    {
     "name": "stdout",
     "output_type": "stream",
     "text": [
      "Enter a string: A LEON JOSEPH CHARLES\n",
      "No.of characters in the string is {'A': 2, ' ': 3, 'L': 2, 'E': 3, 'O': 2, 'N': 1, 'J': 1, 'S': 2, 'P': 1, 'H': 2, 'C': 1, 'R': 1}\n"
     ]
    }
   ],
   "source": [
    "#2:COUNT NUMBER OF CHARACTERS IN STRING\n",
    "def charfre(string):\n",
    "    dict={}\n",
    "    for n in string:\n",
    "        keys=dict.keys()\n",
    "        if n in keys:\n",
    "            dict[n]+=1\n",
    "        else:\n",
    "            dict[n]=1\n",
    "    return dict\n",
    "string = str(input('Enter a string: '))\n",
    "print(\"No.of characters in the string is\",charfre(string))"
   ]
  },
  {
   "cell_type": "code",
   "execution_count": 3,
   "metadata": {},
   "outputs": [
    {
     "name": "stdout",
     "output_type": "stream",
     "text": [
      "Enter 1st string: JOSEPH CHARLES\n",
      "Enter 2nd number: A LEON\n",
      "A LEON JOSEPH CHARLES\n"
     ]
    }
   ],
   "source": [
    "#3:GET A SINGLE STRING FROM GIVEN TWO STRING\n",
    "def swap(a,b):\n",
    "    n1=b[:20]+a[20:]\n",
    "    n2=a[:20]+b[20:]\n",
    "    return n1+' '+n2\n",
    "a = str(input('Enter 1st string: '))\n",
    "b = str(input('Enter 2nd number: '))\n",
    "print(swap(a,b))"
   ]
  },
  {
   "cell_type": "code",
   "execution_count": 4,
   "metadata": {},
   "outputs": [
    {
     "name": "stdout",
     "output_type": "stream",
     "text": [
      "Enter a string: A LEON JOSEPH CHARLES\n",
      "A LEON JOSEPH CHARLES\n",
      "a leon joseph charles\n"
     ]
    }
   ],
   "source": [
    "#4:TAKES INPUT FROM THE USER AND DISPLAYS THAT INPUT BACK IN UPPER AND LOWER CASE LETTERS\n",
    "string=str(input(\"Enter a string: \"))\n",
    "print(string.upper())\n",
    "print(string.lower())"
   ]
  },
  {
   "cell_type": "code",
   "execution_count": 5,
   "metadata": {},
   "outputs": [
    {
     "name": "stdout",
     "output_type": "stream",
     "text": [
      "Enter a string:\n",
      "PROGRAMMING WITH PYTHON\n",
      "PROGRAMMING WITH PYTHON\n",
      "PROGRAMMING WITH PYTHON\n"
     ]
    }
   ],
   "source": [
    "#5:REMOVE A NEW LINE IN PYTHON\n",
    "a=str(input('Enter a string:\\n'))\n",
    "print(a)\n",
    "a=a.rstrip(\"\\n\")\n",
    "print(a)"
   ]
  },
  {
   "cell_type": "code",
   "execution_count": 9,
   "metadata": {},
   "outputs": [
    {
     "name": "stdout",
     "output_type": "stream",
     "text": [
      "Enter a string: hiiiii hlooooo\n",
      "Enter a sub string: h\n",
      "The count is: 2\n"
     ]
    }
   ],
   "source": [
    "#6:COUNT OCCURANCE OF A SUBSTRING IN A STRING\n",
    "string=str(input('Enter a string: '))\n",
    "substr=str(input('Enter a sub string: '))\n",
    "count=string.count(substr)\n",
    "print(\"The count is:\",count)"
   ]
  },
  {
   "cell_type": "code",
   "execution_count": 10,
   "metadata": {},
   "outputs": [
    {
     "name": "stdout",
     "output_type": "stream",
     "text": [
      "Enter a string: hiiii good evng\n",
      "['hiiii', 'good', 'evng']\n"
     ]
    }
   ],
   "source": [
    "#7:CONVERT STRING INTO A LIST\n",
    "def Convert(string): \n",
    "    a=list(string.split(\" \"))\n",
    "    return a\n",
    "string = str(input('Enter a string: '))\n",
    "print(Convert(string))"
   ]
  },
  {
   "cell_type": "code",
   "execution_count": 8,
   "metadata": {},
   "outputs": [
    {
     "name": "stdout",
     "output_type": "stream",
     "text": [
      "Enter a string: LEON J\n",
      "Enter the index of which element to delete:5\n",
      "LEON \n"
     ]
    }
   ],
   "source": [
    "#8:DELETION OF A CHARACTER\n",
    "def rem(string,i):\n",
    "    a=string[ : i]\n",
    "    b=string[i+1: ]\n",
    "    return a+b\n",
    "if __name__ == '__main__':\n",
    "    string=str(input(\"Enter a string: \"))\n",
    "    i=int(input('Enter the index of which element to delete:'))\n",
    "    print(rem(string, i))"
   ]
  },
  {
   "cell_type": "code",
   "execution_count": 11,
   "metadata": {},
   "outputs": [
    {
     "name": "stdout",
     "output_type": "stream",
     "text": [
      "Enter a string: PYTHON\n",
      "P\n",
      "Y\n",
      "T\n",
      "H\n",
      "O\n",
      "N\n"
     ]
    }
   ],
   "source": [
    "# 9:PROGRAM TO PRINT EVERY CHARACTER OF A STRING ENTERED BY USER IN A NEW LINE\n",
    "string=str(input(\"Enter a string: \"))\n",
    "for index,letter in enumerate(string,1):\n",
    "    print(letter)"
   ]
  },
  {
   "cell_type": "code",
   "execution_count": 13,
   "metadata": {},
   "outputs": [
    {
     "name": "stdout",
     "output_type": "stream",
     "text": [
      "The length of string is 12\n"
     ]
    }
   ],
   "source": [
    "#10:LENGTH OF \"REFRIGERATOR\" WITHOUT USING LENGTH FUNCTION\n",
    "string=\"refrigerator\"\n",
    "count=0\n",
    "for i in string:\n",
    "    count+=1\n",
    "print(\"The length of string is\",count)"
   ]
  },
  {
   "cell_type": "code",
   "execution_count": null,
   "metadata": {},
   "outputs": [],
   "source": []
  }
 ],
 "metadata": {
  "kernelspec": {
   "display_name": "Python 3",
   "language": "python",
   "name": "python3"
  },
  "language_info": {
   "codemirror_mode": {
    "name": "ipython",
    "version": 3
   },
   "file_extension": ".py",
   "mimetype": "text/x-python",
   "name": "python",
   "nbconvert_exporter": "python",
   "pygments_lexer": "ipython3",
   "version": "3.7.6"
  }
 },
 "nbformat": 4,
 "nbformat_minor": 4
}
